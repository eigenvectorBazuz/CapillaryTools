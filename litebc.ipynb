{
 "cells": [
  {
   "cell_type": "code",
   "execution_count": 1,
   "id": "3a1babd0",
   "metadata": {},
   "outputs": [
    {
     "name": "stdout",
     "output_type": "stream",
     "text": [
      "{0: 'Capillary', 1: 'Bubble'}\n"
     ]
    }
   ],
   "source": [
    "from ultralytics import YOLO\n",
    "\n",
    "# Load the YOLOv8n model\n",
    "model = YOLO('yolov8n.pt')\n",
    "\n",
    "# Access the class names\n",
    "class_names = model.names\n",
    "\n",
    "# Print the class names\n",
    "print(class_names)\n"
   ]
  },
  {
   "cell_type": "code",
   "execution_count": null,
   "id": "a7e73f62",
   "metadata": {},
   "outputs": [],
   "source": [
    "from ultralytics import YOLO\n",
    "import cv2\n",
    "import matplotlib.pyplot as plt\n",
    "import os"
   ]
  },
  {
   "cell_type": "code",
   "execution_count": null,
   "id": "fa9efd18",
   "metadata": {},
   "outputs": [],
   "source": [
    "# Load the YOLO model from a local file\n",
    "dd = 'C:/Users/f00541990/Documents/litebc/'\n",
    "# dd = 'C:/Users/f00541990/Downloads'\n",
    "\n",
    "model = YOLO(os.path.join(dd, 'yolov8n.pt'))\n",
    "\n",
    "# Access class names (optional)\n",
    "class_names = model.names\n",
    "print(class_names)"
   ]
  },
  {
   "cell_type": "code",
   "execution_count": null,
   "id": "7ba15e10",
   "metadata": {},
   "outputs": [],
   "source": [
    "import torch\n",
    "import torchvision.ops.boxes as bops\n",
    "import numpy as np\n",
    "import cv2\n",
    "import matplotlib.pyplot as plt\n",
    "import random\n",
    "\n",
    "# Use torchvision for IoU calculation\n",
    "def iou_torchvision(box1, box2):\n",
    "    box1 = [box1[2], box1[3], box1[2] + box1[4], box1[3] + box1[5]]\n",
    "    box2 = [box2[2], box2[3], box2[2] + box2[4], box2[3] + box2[5]]\n",
    "    \n",
    "    box1_tensor = torch.tensor([box1], dtype=torch.float32)\n",
    "    box2_tensor = torch.tensor([box2], dtype=torch.float32)\n",
    "    \n",
    "    iou_value = bops.box_iou(box1_tensor, box2_tensor)\n",
    "    return iou_value.item()\n",
    "\n",
    "# Function to assign unique IDs based on IoU matching across two lists of bboxes\n",
    "def assign_bbox_ids(L1, L2, iou_threshold=0.9):\n",
    "    next_id = 1\n",
    "    L1_ids = []\n",
    "    L2_ids = [-1] * len(L2)  # Pre-fill L2 with placeholders\n",
    "    matched_L2 = set()\n",
    "\n",
    "    # Assign IDs to L1 and L2\n",
    "    for i, box1 in enumerate(L1):\n",
    "        matched = False\n",
    "        for j, box2 in enumerate(L2):\n",
    "            if j in matched_L2:\n",
    "                continue\n",
    "            if iou_torchvision(box1, box2) >= iou_threshold:\n",
    "                L1_ids.append(next_id)\n",
    "                L2_ids[j] = next_id  # Match L2[j] with L1[i]\n",
    "                matched_L2.add(j)\n",
    "                matched = True\n",
    "                next_id += 1\n",
    "                break\n",
    "        if not matched:\n",
    "            L1_ids.append(next_id)\n",
    "            next_id += 1\n",
    "\n",
    "    # Assign IDs to unmatched boxes in L2\n",
    "    for j in range(len(L2)):\n",
    "        if L2_ids[j] == -1:  # If still unmatched\n",
    "            L2_ids[j] = next_id\n",
    "            next_id += 1\n",
    "\n",
    "    return L1_ids, L2_ids  # Return two separate lists\n",
    "\n",
    "# Visualization function for bounding boxes in separate subplots\n",
    "def visualize_bboxes_separate(L1, L2, L1_ids, L2_ids):\n",
    "    img1 = np.ones((1000, 1000, 3), dtype=np.uint8) * 255\n",
    "    img2 = np.ones((1000, 1000, 3), dtype=np.uint8) * 255\n",
    "    colors = {}\n",
    "\n",
    "    for bbox_id in set(L1_ids + L2_ids):\n",
    "        colors[bbox_id] = [random.randint(0, 255) for _ in range(3)]\n",
    "\n",
    "    def draw_bbox(img, bbox, bbox_id, label):\n",
    "        x, y, w, h = bbox[2], bbox[3], bbox[4], bbox[5]\n",
    "        color = colors[bbox_id]\n",
    "        cv2.rectangle(img, (x, y), (x + w, y + h), color, 2)\n",
    "        cv2.putText(img, f\"ID: {bbox_id}\", (x, y - 10), cv2.FONT_HERSHEY_SIMPLEX, 0.6, color, 2)\n",
    "        cv2.putText(img, label, (x, y + h + 20), cv2.FONT_HERSHEY_SIMPLEX, 0.6, color, 2)\n",
    "\n",
    "    for i, bbox in enumerate(L1):\n",
    "        draw_bbox(img1, bbox, L1_ids[i], \"L1\")\n",
    "\n",
    "    for i, bbox in enumerate(L2):\n",
    "        draw_bbox(img2, bbox, L2_ids[i], \"L2\")\n",
    "\n",
    "    fig, ax = plt.subplots(1, 2, figsize=(10, 10))\n",
    "    ax[0].imshow(cv2.cvtColor(img1, cv2.COLOR_BGR2RGB))\n",
    "    ax[0].set_title(\"L1 Bounding Boxes\")\n",
    "    ax[0].axis('off')\n",
    "\n",
    "    ax[1].imshow(cv2.cvtColor(img2, cv2.COLOR_BGR2RGB))\n",
    "    ax[1].set_title(\"L2 Bounding Boxes\")\n",
    "    ax[1].axis('off')\n",
    "\n",
    "    plt.show()\n",
    "\n",
    "# Example bounding boxes for a more challenging scenario\n",
    "L1 = [\n",
    "    (0, 1.0, 50, 50, 100, 100),\n",
    "    (0, 1.0, 550, 550, 80, 80),\n",
    "    (0, 1.0, 200, 200, 100, 100),\n",
    "    (0, 1.0, 400, 400, 100, 100),\n",
    "    \n",
    "]\n",
    "\n",
    "L2 = [\n",
    "    (0, 1.0, 48, 52, 100, 100),  # Slight shift, should match L1[0]\n",
    "    (0, 1.0, 548, 548, 80, 80),  # Should match L1[3]\n",
    "    (0, 1.0, 210, 210, 90, 90),  # Slightly different, should match L1[1]\n",
    "    (0, 1.0, 350, 400, 100, 100) # Should not match any box in L1\n",
    "]\n",
    "\n",
    "# Assign IDs and visualize\n",
    "L1_ids, L2_ids = assign_bbox_ids(L1, L2, iou_threshold=0.8)\n",
    "visualize_bboxes_separate(L1, L2, L1_ids, L2_ids)\n"
   ]
  },
  {
   "cell_type": "code",
   "execution_count": null,
   "id": "8af5b202",
   "metadata": {},
   "outputs": [],
   "source": [
    "import rbo"
   ]
  },
  {
   "cell_type": "code",
   "execution_count": null,
   "id": "0ef69fcd",
   "metadata": {},
   "outputs": [],
   "source": [
    "import rbo"
   ]
  },
  {
   "cell_type": "code",
   "execution_count": null,
   "id": "0dd10db5",
   "metadata": {},
   "outputs": [],
   "source": [
    "L1_ids, L2_ids"
   ]
  },
  {
   "cell_type": "code",
   "execution_count": null,
   "id": "b1cf600a",
   "metadata": {},
   "outputs": [],
   "source": [
    "rbo.RankingSimilarity(L1_ids, L2_ids).rbo()"
   ]
  },
  {
   "cell_type": "code",
   "execution_count": null,
   "id": "a076ee76",
   "metadata": {},
   "outputs": [],
   "source": [
    "rbo.RankingSimilarity(L1_ids, L2_ids).rbo()"
   ]
  },
  {
   "cell_type": "code",
   "execution_count": null,
   "id": "f854109e",
   "metadata": {},
   "outputs": [],
   "source": [
    "L1 = [\n",
    "    (0, 1.0, 100, 100, 200, 200),  # Box in the center\n",
    "    (0, 1.0, 400, 400, 150, 150)   # Another box on the right\n",
    "]\n",
    "\n",
    "L2 = [\n",
    "    (0, 1.0, 100, 100, 200, 200),  # Exactly the same box\n",
    "    (0, 1.0, 400, 400, 150, 150)   # Same as L1[1]\n",
    "]\n",
    "\n",
    "L1_ids, L2_ids = assign_bbox_ids(L1, L2, iou_threshold=0.8)\n",
    "res = rbo.RankingSimilarity(L1_ids, L2_ids).rbo()\n",
    "\n",
    "print(L1_ids, L2_ids)\n",
    "print(res)"
   ]
  },
  {
   "cell_type": "code",
   "execution_count": null,
   "id": "1ce7cad3",
   "metadata": {},
   "outputs": [],
   "source": [
    "L1 = [\n",
    "    (0, 1.0, 50, 50, 100, 100),    # Box near the top-left\n",
    "    (0, 1.0, 300, 300, 150, 150),  # Another box in the middle\n",
    "]\n",
    "\n",
    "L2 = [\n",
    "    (0, 1.0, 55, 55, 100, 100),    # Slightly shifted box from L1[0]\n",
    "    (0, 1.0, 305, 310, 140, 150)   # Slightly shifted and resized box from L1[1]\n",
    "]\n",
    "\n",
    "L1_ids, L2_ids = assign_bbox_ids(L1, L2, iou_threshold=0.8)\n",
    "res = rbo.RankingSimilarity(L1_ids, L2_ids).rbo()\n",
    "\n",
    "print(L1_ids, L2_ids)\n",
    "print(res)"
   ]
  },
  {
   "cell_type": "code",
   "execution_count": null,
   "id": "f6c71103",
   "metadata": {},
   "outputs": [],
   "source": [
    "L1 = [\n",
    "    (0, 1.0, 100, 100, 150, 150),   # Box in the middle\n",
    "    (0, 1.0, 500, 500, 100, 100),   # Smaller box in the bottom-right\n",
    "]\n",
    "\n",
    "L2 = [\n",
    "    \n",
    "    (0, 1.0, 600, 600, 100, 100),   # No overlap with L1, new box\n",
    "    (0, 1.0, 90, 90, 50, 50),        # Smaller box slightly outside L1[0]\n",
    "    (0, 1.0, 110, 110, 140, 140),   # Partial overlap with L1[0]\n",
    "]\n",
    "\n",
    "L1_ids, L2_ids = assign_bbox_ids(L1, L2, iou_threshold=0.5)\n",
    "res = rbo.RankingSimilarity(L1_ids, L2_ids).rbo()\n",
    "\n",
    "print(L1_ids, L2_ids)\n",
    "print(res)"
   ]
  },
  {
   "cell_type": "code",
   "execution_count": null,
   "id": "58ec1cda",
   "metadata": {},
   "outputs": [],
   "source": [
    "L1 = [\n",
    "    (0, 1.0, 50, 50, 100, 100),    # Top-left corner box\n",
    "    (0, 1.0, 400, 200, 150, 100)   # Box in the middle-right\n",
    "]\n",
    "\n",
    "L2 = [\n",
    "    (0, 1.0, 300, 300, 150, 150),  # Different box, no overlap with L1\n",
    "    (0, 1.0, 600, 400, 200, 150)   # Completely new box\n",
    "]\n",
    "\n",
    "L1_ids, L2_ids = assign_bbox_ids(L1, L2, iou_threshold=0.5)\n",
    "res = rbo.RankingSimilarity(L1_ids, L2_ids).rbo()\n",
    "\n",
    "print(L1_ids, L2_ids)\n",
    "print(res)\n"
   ]
  },
  {
   "cell_type": "code",
   "execution_count": null,
   "id": "4f8ca177",
   "metadata": {},
   "outputs": [],
   "source": [
    "x = rbo.RankingSimilarity(L1_ids, L2_ids)\n",
    "x.p = 1\n",
    "x.rbo()"
   ]
  },
  {
   "cell_type": "code",
   "execution_count": null,
   "id": "fae1de22",
   "metadata": {},
   "outputs": [],
   "source": [
    "x.p"
   ]
  },
  {
   "cell_type": "code",
   "execution_count": null,
   "id": "0c11fc7e",
   "metadata": {},
   "outputs": [],
   "source": [
    "dir(x)"
   ]
  },
  {
   "cell_type": "code",
   "execution_count": null,
   "id": "6c9e7875",
   "metadata": {},
   "outputs": [],
   "source": []
  }
 ],
 "metadata": {
  "kernelspec": {
   "display_name": "Python 3 (ipykernel)",
   "language": "python",
   "name": "python3"
  },
  "language_info": {
   "codemirror_mode": {
    "name": "ipython",
    "version": 3
   },
   "file_extension": ".py",
   "mimetype": "text/x-python",
   "name": "python",
   "nbconvert_exporter": "python",
   "pygments_lexer": "ipython3",
   "version": "3.11.5"
  }
 },
 "nbformat": 4,
 "nbformat_minor": 5
}
